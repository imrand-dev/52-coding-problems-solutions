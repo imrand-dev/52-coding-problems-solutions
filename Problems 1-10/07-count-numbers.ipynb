{
 "cells": [
  {
   "cell_type": "markdown",
   "id": "038ffdc0",
   "metadata": {},
   "source": [
    "- [সমস্যা ৭ — সংখ্যা গণনা](https://dimikoj.com/problems/7/count-numbers)\n",
    "\n",
    "### সমস্যার বিবরণ\n",
    "\n",
    "একটি লাইনে অনেকগুলো সংখ্যা দেওয়া থাকবে। সংখ্যাগুলোর মধ্যে এক বা একাধিক স্পেস ক্যারেক্টার থাকবে। লাইনে মোট কয়টি সংখ্যা আছে, সেটি বের করতে হবে।\n",
    "\n",
    "### ইনপুট\n",
    "\n",
    "প্রথম লাইনে একটি সংখ্যা ${T (1 <= T <= 100)}$ থাকবে। তারপর ${T}$-এর মান যত, ততটি লাইন থাকবে। প্রতিটি লাইনে এক বা একাধিক সংখ্যা থাকবে, যাদের পরম মান 10, 000, 000-এর বেশি হবে না। একটি লাইনের সংখ্যাগুলোর মধ্যে এক বা একাধিক স্পেস ক্যারেক্টার থাকবে।\n",
    "\n",
    "### আউটপুট\n",
    "\n",
    "প্রতিটি লাইনে কয়টি সংখ্যা আছে, সেটি প্রিন্ট করতে হবে।\n",
    "\n",
    "### নমুনা ইনপুট / আউটপুট\n",
    "\n",
    "![](https://i.ibb.co/k4H0SNZ/image.png)"
   ]
  },
  {
   "cell_type": "code",
   "execution_count": 1,
   "id": "78c3467f",
   "metadata": {},
   "outputs": [
    {
     "name": "stdout",
     "output_type": "stream",
     "text": [
      "4\n",
      "1 -2 10000 -50 20 7 445\n",
      "↬ 7\n",
      "9\n",
      "↬ 1\n",
      "-98 876 65\n",
      "↬ 3\n",
      "223 987456 258\n",
      "↬ 3\n"
     ]
    }
   ],
   "source": [
    "T = int(input())\n",
    "\n",
    "for _ in range(T):\n",
    "    line = list(map(int, input().split()))\n",
    "    print(f\"↬ {len(line)}\")"
   ]
  }
 ],
 "metadata": {
  "kernelspec": {
   "display_name": "Python 3 (system-wide)",
   "language": "python",
   "name": "python3"
  },
  "language_info": {
   "codemirror_mode": {
    "name": "ipython",
    "version": 3
   },
   "file_extension": ".py",
   "mimetype": "text/x-python",
   "name": "python",
   "nbconvert_exporter": "python",
   "pygments_lexer": "ipython3",
   "version": "3.10.12"
  }
 },
 "nbformat": 4,
 "nbformat_minor": 5
}
