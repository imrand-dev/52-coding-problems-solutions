{
 "cells": [
  {
   "cell_type": "markdown",
   "metadata": {},
   "source": [
    "- [সমস্যা ৩ — অধোগামী সংখ্যা](https://dimikoj.com/problems/3/descending-number)\n",
    "\n",
    "### সমস্যার বিবরণ\n",
    "\n",
    "এমন একটি প্রোগ্রাম লিখতে হবে, যেটি 1 থেকে 1000 পর্যন্ত সবগুলো সংখ্যাকে বড়ো থেকে ছোটো ক্রমানুসারে প্রিন্ট করবে।\n",
    "\n",
    "### ইনপুট\n",
    "\n",
    "কোনো ইনপুট নেই।\n",
    "\n",
    "### আউটপুট\n",
    "\n",
    "প্রতিটি লাইনে মোট 5 টি করে সংখ্যা থাকবে এবং প্রতিটি সংখ্যা একটি `'\\t'` (ট্যাব) ক্যারেক্টার দিয়ে আলাদা করা থাকবে।\n",
    "\n",
    "### নমুনা ইনপুট / আউটপুট\n",
    "\n",
    "![](https://i.ibb.co/Thx25Km/image.png)\n",
    "\n",
    "### Approach 1\n",
    "\n",
    "with the help of extra variable."
   ]
  },
  {
   "cell_type": "code",
   "execution_count": 1,
   "metadata": {},
   "outputs": [
    {
     "name": "stdout",
     "output_type": "stream",
     "text": [
      "100\t99\t98\t97\t96\t\n",
      "95\t94\t93\t92\t91\t\n",
      "90\t89\t88\t87\t86\t\n",
      "85\t84\t83\t82\t81\t\n",
      "80\t79\t78\t77\t76\t\n",
      "75\t74\t73\t72\t71\t\n",
      "70\t69\t68\t67\t66\t\n",
      "65\t64\t63\t62\t61\t\n",
      "60\t59\t58\t57\t56\t\n",
      "55\t54\t53\t52\t51\t\n",
      "50\t49\t48\t47\t46\t\n",
      "45\t44\t43\t42\t41\t\n",
      "40\t39\t38\t37\t36\t\n",
      "35\t34\t33\t32\t31\t\n",
      "30\t29\t28\t27\t26\t\n",
      "25\t24\t23\t22\t21\t\n",
      "20\t19\t18\t17\t16\t\n",
      "15\t14\t13\t12\t11\t\n",
      "10\t9\t8\t7\t6\t\n",
      "5\t4\t3\t2\t1\t\n"
     ]
    }
   ],
   "source": [
    "#include <iostream>\n",
    "using namespace std;\n",
    "\n",
    "int j = 0;\n",
    "for (int i = 100; i > 0; i--) {\n",
    "    j += 1;\n",
    "    cout << i << \"\\t\";\n",
    "    \n",
    "    if (j % 5 == 0) {\n",
    "        cout << \"\\n\";\n",
    "    }\n",
    "}"
   ]
  },
  {
   "cell_type": "markdown",
   "metadata": {},
   "source": [
    "### Python Solution\n",
    "\n",
    "```py\n",
    "count = 0\n",
    "for i in range(1000, 0, -1):\n",
    "    print(f\"{i}\\t\", end=\"\")\n",
    "    \n",
    "    count += 1\n",
    "    if count == 5:\n",
    "        print()\n",
    "        count = 0\n",
    "```"
   ]
  },
  {
   "cell_type": "markdown",
   "metadata": {},
   "source": [
    "### Approach 2\n",
    "\n",
    "without the help of extra variable."
   ]
  },
  {
   "cell_type": "code",
   "execution_count": 2,
   "metadata": {},
   "outputs": [
    {
     "name": "stdout",
     "output_type": "stream",
     "text": [
      "100\t99\t98\t97\t96\t\n",
      "95\t94\t93\t92\t91\t\n",
      "90\t89\t88\t87\t86\t\n",
      "85\t84\t83\t82\t81\t\n",
      "80\t79\t78\t77\t76\t\n",
      "75\t74\t73\t72\t71\t\n",
      "70\t69\t68\t67\t66\t\n",
      "65\t64\t63\t62\t61\t\n",
      "60\t59\t58\t57\t56\t\n",
      "55\t54\t53\t52\t51\t\n",
      "50\t49\t48\t47\t46\t\n",
      "45\t44\t43\t42\t41\t\n",
      "40\t39\t38\t37\t36\t\n",
      "35\t34\t33\t32\t31\t\n",
      "30\t29\t28\t27\t26\t\n",
      "25\t24\t23\t22\t21\t\n",
      "20\t19\t18\t17\t16\t\n",
      "15\t14\t13\t12\t11\t\n",
      "10\t9\t8\t7\t6\t\n",
      "5\t4\t3\t2\t1\t\n"
     ]
    }
   ],
   "source": [
    "#include <iostream>\n",
    "using namespace std;\n",
    "\n",
    "for (int i = 100; i > 0; i--) {\n",
    "    cout << i << \"\\t\";\n",
    "    \n",
    "    // example - when i become 996/991 (1000, 996) then 996-1=995 which is divisible by 5\n",
    "    if ((i - 1) % 5 == 0) {\n",
    "        cout << endl;\n",
    "    }\n",
    "}"
   ]
  }
 ],
 "metadata": {
  "kernelspec": {
   "display_name": "C++11",
   "language": "C++11",
   "name": "xeus-cling-cpp11"
  },
  "language_info": {
   "codemirror_mode": "text/x-c++src",
   "file_extension": ".cpp",
   "mimetype": "text/x-c++src",
   "name": "c++",
   "version": "11"
  }
 },
 "nbformat": 4,
 "nbformat_minor": 4
}
