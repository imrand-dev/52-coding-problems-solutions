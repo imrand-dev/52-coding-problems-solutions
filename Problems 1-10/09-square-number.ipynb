{
 "cells": [
  {
   "cell_type": "markdown",
   "id": "f0a8ae77",
   "metadata": {},
   "source": [
    "- [৯ — পূর্ণবর্গ সংখ্যা](https://dimikoj.com/problems/9/square-number)\n",
    "\n",
    "### সমস্যার বিবরণ\n",
    "\n",
    "একটি সংখ্যা পূর্ণবর্গ কি না, সেটি বের করার প্রোগ্রাম লিখতে হবে।\n",
    "\n",
    "### ইনপুট\n",
    "\n",
    "ইনপুটের প্রথম লাইনে থাকবে টেস্ট কেসের সংখ্যা ${T (T <= 100)}$। এরপরে ${T}$-সংখ্যক লাইন থাকবে। প্রতিটি লাইনে থাকবে একটি পূর্ণসংখ্যা \n",
    "${N (0 <= N <= 2 ^{31})}$।\n",
    "\n",
    "### আউটপুট\n",
    "\n",
    "প্রোগ্রামটির আউটপুটে ${N}$ পূর্ণবর্গ সংখ্যা হলে `YES` প্রিন্ট করতে হবে। অন্যথায় প্রিন্ট করতে হবে `NO`।\n",
    "\n",
    "### নমুনা ইনপুট / আউটপুট\n",
    "\n",
    "![](https://i.ibb.co/723GscF/image.png)"
   ]
  },
  {
   "cell_type": "code",
   "execution_count": 1,
   "id": "baedb44a",
   "metadata": {},
   "outputs": [
    {
     "name": "stdout",
     "output_type": "stream",
     "text": [
      "3\n",
      "16 18 196\n",
      "YES\n",
      "NO\n",
      "YES\n"
     ]
    }
   ],
   "source": [
    "#include <iostream>\n",
    "#include <math.h>\n",
    "using namespace std;\n",
    "\n",
    "int T;\n",
    "cin >> T;\n",
    "\n",
    "for (int i = 1; i <= T; i++) {\n",
    "    int N;\n",
    "    cin >> N;\n",
    "    \n",
    "    int sq_root = sqrt(N);\n",
    "    if (sq_root * sq_root == N) {\n",
    "        cout << \"YES\" << endl;\n",
    "    } else {\n",
    "        cout << \"NO\" << endl;\n",
    "    }\n",
    "}"
   ]
  },
  {
   "cell_type": "markdown",
   "id": "49b1482d",
   "metadata": {},
   "source": [
    "### Python Solution\n",
    "\n",
    "```py\n",
    "from math import isqrt\n",
    "\n",
    "test_cases = int(input())\n",
    "\n",
    "for i in range(1, test_cases + 1):\n",
    "    num = int(input())\n",
    "    \n",
    "    sq_root = isqrt(num)\n",
    "    print(\"YES\" if sq_root*sq_root == num else \"NO\")\n",
    "```"
   ]
  }
 ],
 "metadata": {
  "kernelspec": {
   "display_name": "C++11",
   "language": "C++11",
   "name": "xeus-cling-cpp11"
  },
  "language_info": {
   "codemirror_mode": "text/x-c++src",
   "file_extension": ".cpp",
   "mimetype": "text/x-c++src",
   "name": "c++",
   "version": "11"
  }
 },
 "nbformat": 4,
 "nbformat_minor": 5
}
