{
 "cells": [
  {
   "cell_type": "markdown",
   "id": "ff5b3e2e",
   "metadata": {},
   "source": [
    "- [সমস্যা ৫ — বাক্স ১](https://dimikoj.com/problems/5/box-1)\n",
    "\n",
    "### সমস্যার বিবরণ\n",
    "\n",
    "তোমার হাতে যথেষ্ট পরিমাণে কাজকর্ম নেই দেখে তোমাকে একটি বাক্স আঁকার কাজ দেওয়া হলো। আসলে ব্যাপারটি তেমন কিছু কঠিন নয়। তোমাকে বর্গের একটি বাহুর দৈর্ঘ্য বলা হবে, আর তুমি চট করে `*` অক্ষরটি ব্যবহার করে ওই বর্গটি এঁকে ফেলবে। বর্গের কেবল বাহু আঁকলেই হবে না, ভেতরের ঘরগুলোও `*` দিয়ে পূর্ণ করে দিতে হবে। যেহেতু তুমি প্রোগ্রামিং শেখা শুরু করেছ এবং লুপ পর্যন্ত শিখে ফেলেছ, তাই তুমি কাজটি করবে একটি প্রোগ্রাম লিখে।\n",
    "\n",
    "### ইনপুট\n",
    "\n",
    "প্রথম লাইনে একটি সংখ্যা ${T (1 <= T <= 25)}$ থাকবে এবং তারপরে ${T}$-সংখ্যক লাইন থাকবে। প্রতিটি লাইনে একটি করে সংখ্যা ${N}$ থাকবে যার মান 1 থেকে 80 -এর মধ্যে হবে।\n",
    "\n",
    "### আউটপুট\n",
    "\n",
    "প্রতিটি ${N}$-এর জন্য ${N * N}$ বর্গ আঁকতে হবে। পুরো বর্গটি `*` দিয়ে পূর্ণ করে দিতে হবে। প্রতিটি বর্গ একটি ফাঁকা লাইন দিয়ে পৃথক করে দিতে হবে। পৃথক করার কাজ ব্যতিত অন্য কোথাও অতিরিক্ত ফাঁকা লাইন বা স্পেস রাখা যাবে না।\n",
    "\n",
    "### নমুনা ইনপুট / আউটপুট\n",
    "\n",
    "![image.png](https://i.ibb.co/d56T5BY/image.png)"
   ]
  },
  {
   "cell_type": "code",
   "execution_count": 1,
   "id": "6ec10c21",
   "metadata": {},
   "outputs": [
    {
     "name": "stdout",
     "output_type": "stream",
     "text": [
      "5\n",
      "5 4 3 2 1\n",
      "*****\n",
      "*****\n",
      "*****\n",
      "*****\n",
      "*****\n",
      "\n",
      "****\n",
      "****\n",
      "****\n",
      "****\n",
      "\n",
      "***\n",
      "***\n",
      "***\n",
      "\n",
      "**\n",
      "**\n",
      "\n",
      "*\n",
      "\n"
     ]
    }
   ],
   "source": [
    "#include <iostream>\n",
    "using namespace std;\n",
    "\n",
    "int T;\n",
    "cin >> T;\n",
    "\n",
    "for (int i = 1; i <= T; i++){\n",
    "    int N;\n",
    "    cin >> N;\n",
    "    \n",
    "    for (int j = 1; j <= N; j++) {\n",
    "        for (int k = 1; k <= N; k++) {\n",
    "            cout << \"*\";\n",
    "        }\n",
    "        cout << endl;\n",
    "    }\n",
    "    \n",
    "    // we don't need to print `\\n` at the last test case\n",
    "    // used i-1 caused i started at 1.\n",
    "    if (i-1 != N) {\n",
    "        cout << endl;\n",
    "    }\n",
    "}"
   ]
  },
  {
   "cell_type": "markdown",
   "id": "5317fed8",
   "metadata": {},
   "source": [
    "### Python Solution\n",
    "\n",
    "```py\n",
    "test_cases = int(input())\n",
    "\n",
    "for i in range(1, test_cases + 1):\n",
    "    n = int(input())\n",
    "    \n",
    "    for j in range(1, n+1):\n",
    "        print(\"*\" * n)\n",
    "    \n",
    "    if i - 1 != n:\n",
    "        print()\n",
    "```         "
   ]
  }
 ],
 "metadata": {
  "kernelspec": {
   "display_name": "C++11",
   "language": "C++11",
   "name": "xeus-cling-cpp11"
  },
  "language_info": {
   "codemirror_mode": "text/x-c++src",
   "file_extension": ".cpp",
   "mimetype": "text/x-c++src",
   "name": "c++",
   "version": "11"
  }
 },
 "nbformat": 4,
 "nbformat_minor": 5
}
