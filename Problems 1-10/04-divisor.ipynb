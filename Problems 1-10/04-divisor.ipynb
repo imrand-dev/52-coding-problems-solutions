{
 "cells": [
  {
   "cell_type": "markdown",
   "id": "e3f2674a",
   "metadata": {},
   "source": [
    "- [সমস্যা ৪ — ভাজক](https://dimikoj.com/problems/4/divisor)\n",
    "\n",
    "### সমস্যার বিবরণ\n",
    "\n",
    "একটি সংখ্যার সব গুণনীয়ক (ভাজক) বের করতে হবে।\n",
    "\n",
    "### ইনপুট\n",
    "\n",
    "প্রথম লাইনে থাকবে টেস্ট কেসের সংখ্যা ${T (T <= 10)}$ । পরবর্তী ${T}$ সংখ্যক লাইনে একটি করে পূর্ণসংখ্যা ${N}$ থাকবে, যেখানে ${(1 <= N <= 100, 000)}$।\n",
    "\n",
    "### আউটপুট\n",
    "\n",
    "প্রতিটি কেসের জন্য একটি করে লাইন প্রিন্ট করতে হবে, শুরুতে কেস নম্বর দিতে হবে। এরপর ${N}$ এর সব গুণনীয়ক ছোটো থেকে বড়ো ক্রমানুসারে প্রিন্ট করতে হবে। প্রতিটি গুণনীয়ক শুধু একবার প্রিন্ট করতে হবে। গুণনীয়কগুলোকে শুধু একটি স্পেস দিয়ে আলাদা করতে হবে। লাইনের শেষে কোনো অতিরিক্ত স্পেস থাকবে না।\n",
    "\n",
    "### নমুনা ইনপুট / আউটপুট\n",
    "\n",
    "![](https://i.ibb.co/QMRt6mH/image.png)\n",
    "\n",
    "### Brute Force Approach v1\n",
    "\n",
    "* Time Complexity ${O(n)}$\n",
    "* Space Complexity ${O(1)}$"
   ]
  },
  {
   "cell_type": "code",
   "execution_count": 1,
   "id": "3b3eada9",
   "metadata": {},
   "outputs": [
    {
     "name": "stdout",
     "output_type": "stream",
     "text": [
      "4\n",
      "49 120 5555 852\n",
      "Case 1: 1 7 49\n",
      "Case 2: 1 2 3 4 5 6 8 10 12 15 20 24 30 40 60 120\n",
      "Case 3: 1 5 11 55 101 505 1111 5555\n",
      "Case 4: 1 2 3 4 6 12 71 142 213 284 426 852\n"
     ]
    }
   ],
   "source": [
    "#include <bits/stdc++.h>\n",
    "using namespace std;\n",
    "\n",
    "int T, N;\n",
    "cin >> T;\n",
    "\n",
    "for (int i = 1; i <= T; i++) {\n",
    "    cin >> N;\n",
    "    cout << \"Case \" << i << \":\";\n",
    "    \n",
    "    for (int j = 1; j <= N; j++) {\n",
    "        if (N % j == 0) {\n",
    "            cout << \" \" << j;\n",
    "        }\n",
    "    }\n",
    "    \n",
    "    cout << endl;\n",
    "}"
   ]
  },
  {
   "cell_type": "markdown",
   "id": "a5af6fda",
   "metadata": {},
   "source": [
    "### Python Solution\n",
    "\n",
    "```py\n",
    "test_cases = int(input())\n",
    "\n",
    "for i in range(1, test_cases + 1):\n",
    "    number = int(input())\n",
    "    print(f\"Case {i}:\", end=\"\")\n",
    "    \n",
    "    for j in range(1, number + 1):\n",
    "        if number % j == 0:\n",
    "            print(f\" {j}\", end=\"\")\n",
    "    \n",
    "    print()\n",
    "```"
   ]
  },
  {
   "cell_type": "markdown",
   "id": "2c0d2d00",
   "metadata": {},
   "source": [
    "### Brute Force Approach v2\n",
    "\n",
    "* Time Complexity ${O(n)}$\n",
    "* Space Complexity ${O(1)}$"
   ]
  },
  {
   "cell_type": "code",
   "execution_count": 2,
   "id": "43f6eb12",
   "metadata": {},
   "outputs": [
    {
     "name": "stdout",
     "output_type": "stream",
     "text": [
      "3\n",
      "49 120 5555\n",
      "Case 1: 1 7 49\n",
      "Case 2: 1 2 3 4 5 6 8 10 12 15 20 24 30 40 60 120\n",
      "Case 3: 1 5 11 55 101 505 1111 5555\n"
     ]
    }
   ],
   "source": [
    "#include <bits/stdc++.h>\n",
    "using namespace std;\n",
    "\n",
    "int T, N;\n",
    "cin >> T;\n",
    "\n",
    "for (int i = 1; i <= T; i++) {\n",
    "    cin >> N;\n",
    "    cout << \"Case \" << i << \": \";\n",
    "    \n",
    "    for (int j = 1; j < N; j++) {\n",
    "        if (N % j == 0) {\n",
    "            cout << j << \" \";\n",
    "        }\n",
    "    }\n",
    "    \n",
    "    // last divisor will be the number itself, so don't need to check\n",
    "    cout << N << endl;\n",
    "}"
   ]
  },
  {
   "cell_type": "markdown",
   "id": "eeee9d31",
   "metadata": {},
   "source": [
    "### Optimized Approach\n",
    "\n",
    "* Time Complexity ${O(√n)}$\n",
    "* Space Complexity ${O(1)}$"
   ]
  },
  {
   "cell_type": "code",
   "execution_count": 3,
   "id": "d76e73f0",
   "metadata": {},
   "outputs": [
    {
     "name": "stdout",
     "output_type": "stream",
     "text": [
      "2\n",
      "5555 987\n",
      "Case 1: 1 5555 5 1111 11 505 55 101\n",
      "Case 2: 1 987 3 329 7 141 21 47\n"
     ]
    }
   ],
   "source": [
    "#include <bits/stdc++.h>\n",
    "using namespace std;\n",
    "\n",
    "int T, N;\n",
    "cin >> T;\n",
    "\n",
    "for (int i = 1; i <= T; i++) {\n",
    "    cin >> N;\n",
    "    \n",
    "    cout << \"Case \" << i << \":\";\n",
    "    \n",
    "    for (int j = 1; j <= sqrt(N); j++) {\n",
    "        if (N % j == 0 && j * j != N) {\n",
    "            cout << \" \" << j << \" \" << N/j;\n",
    "        } else if (N % j == 0 && j * j == N) {\n",
    "            cout << \" \" << j;\n",
    "        }\n",
    "    }\n",
    "    \n",
    "    cout << endl;\n",
    "}"
   ]
  },
  {
   "cell_type": "markdown",
   "id": "4d0f4659",
   "metadata": {},
   "source": [
    "### Python Solution\n",
    "\n",
    "```py\n",
    "from math import isqrt\n",
    "\n",
    "test_cases = int(input())\n",
    "\n",
    "for i in range(1, test_cases + 1):\n",
    "    number = int(input())\n",
    "    print(f\"Case {i}:\", end=\"\")\n",
    "    \n",
    "    square_root = isqrt(number)\n",
    "    for j in range(1, square_root + 1):\n",
    "        if number % j == 0 and j*j != number:\n",
    "            print(f\" {j} {number//j}\", end=\"\")\n",
    "        elif number % j == 0 and j*j == number:\n",
    "            print(f\" {j}\", end=\"\")\n",
    "    \n",
    "    print()\n",
    "```"
   ]
  }
 ],
 "metadata": {
  "kernelspec": {
   "display_name": "C++11",
   "language": "C++11",
   "name": "xeus-cling-cpp11"
  },
  "language_info": {
   "codemirror_mode": "text/x-c++src",
   "file_extension": ".cpp",
   "mimetype": "text/x-c++src",
   "name": "c++",
   "version": "11"
  }
 },
 "nbformat": 4,
 "nbformat_minor": 5
}
