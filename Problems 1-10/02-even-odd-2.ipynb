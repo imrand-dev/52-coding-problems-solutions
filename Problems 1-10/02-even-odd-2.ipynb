{
 "cells": [
  {
   "cell_type": "markdown",
   "id": "9bd89118",
   "metadata": {},
   "source": [
    "- [সমস্যা ২ — জোড়-বিজোড় ২](https://dimikoj.com/problems/2/even-odd-2)\n",
    "\n",
    "### সমস্যার বিবরণ\n",
    "\n",
    "একটি পূর্ণসংখ্যা দেওয়া থাকবে, সেটি জোড় না বিজোড় তা বের করতে হবে।\n",
    "\n",
    "### ইনপুট\n",
    "\n",
    "প্রথম লাইনে একটি সংখ্যা ${T (1 <= T <= 100)}$ দেওয়া থাকবে। পরবর্তীতে  ${T}$ এর মান যত, ততটি লাইন থাকবে। প্রতিটি লাইনে একটি করে পূর্ণসংখ্যা ${N}$ দেওয়া থাকবে। একটি সংখ্যায় সর্বোচ্চ ${100}$ টি অঙ্ক (digit) থাকতে পারে।\n",
    "\n",
    "### আউটপুট\n",
    "\n",
    "প্রতিটি পূর্ণসংখ্যার জন্য, সংখ্যাটি জোড় হলে `even`, আর বিজোড় হলে `odd` কথাটি প্রিন্ট করতে হবে।\n",
    "\n",
    "### নমুনা ইনপুট / আউটপুট\n",
    "\n",
    "![](https://i.ibb.co/wsW751K/image.png)"
   ]
  },
  {
   "cell_type": "code",
   "execution_count": 1,
   "id": "9cb64028",
   "metadata": {},
   "outputs": [
    {
     "name": "stdout",
     "output_type": "stream",
     "text": [
      "3\n",
      "100 0 1111\n",
      "even\n",
      "even\n",
      "odd\n"
     ]
    }
   ],
   "source": [
    "#include <iostream>\n",
    "#include <string.h>\n",
    "using namespace std;\n",
    "\n",
    "int T;\n",
    "cin >> T;\n",
    "\n",
    "char N[120];\n",
    "\n",
    "for (int i = 1; i <= T; i++) {\n",
    "    cin >> N;\n",
    "    \n",
    "    int last_digit = (int) N[strlen(N) - 1];\n",
    "    if (last_digit % 2 == 0) {\n",
    "        cout << \"even\" << endl;\n",
    "    } else {\n",
    "        cout << \"odd\" << endl;\n",
    "    }\n",
    "}"
   ]
  },
  {
   "cell_type": "markdown",
   "id": "d4487140",
   "metadata": {},
   "source": [
    "### Python Solution\n",
    "\n",
    "Since Python can take large numbers as input, we don't need to store them as strings.\n",
    "\n",
    "```py\n",
    "test_cases = int(input())\n",
    "\n",
    "for _ in range(1, test_cases + 1):\n",
    "    number = int(input())\n",
    "    \n",
    "    # we need to check whether last bit is 1 or not. If 1 then number is odd else even\n",
    "    print(\"odd\" if number & 1 else \"even\")\n",
    "```"
   ]
  }
 ],
 "metadata": {
  "kernelspec": {
   "display_name": "C++11",
   "language": "C++11",
   "name": "xeus-cling-cpp11"
  },
  "language_info": {
   "codemirror_mode": "text/x-c++src",
   "file_extension": ".cpp",
   "mimetype": "text/x-c++src",
   "name": "c++",
   "version": "11"
  }
 },
 "nbformat": 4,
 "nbformat_minor": 5
}
