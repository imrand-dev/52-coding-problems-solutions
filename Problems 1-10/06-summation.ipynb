{
 "cells": [
  {
   "cell_type": "markdown",
   "id": "ea7919b2",
   "metadata": {},
   "source": [
    "- [সমস্যা ৬ — যোগফল নির্ণয়](https://dimikoj.com/problems/6/summation)\n",
    "\n",
    "### সমস্যার বিবরণ\n",
    "\n",
    "পাঁচ অঙ্কের একটি সংখ্যার প্রথম ও শেষ অঙ্কের যোগফল নির্ণয় করার প্রোগ্রাম লিখতে হবে।\n",
    "\n",
    "### ইনপুট\n",
    "\n",
    "প্রোগ্রামটির প্রথম ইনপুট হবে একটি পূর্ণসংখ্যা ${T (1 <= T <= 10, 000)}$, যা মোট কয়টি পাঁচ অঙ্কের সংখ্যা ইনপুট নিতে হবে তা নির্দেশ করবে। পরবর্তী \n",
    "${T}$-সংখ্যক লাইনে একটি করে পূর্ণসংখ্যা ${N (10,000 <= N <= 99, 999)}$ ইনপুট নিতে হবে।\n",
    "\n",
    "### আউটপুট\n",
    "\n",
    "প্রোগ্রামটির আউটপুটে ${N}$-এর প্রথম ও শেষ অঙ্কের যোগফল প্রিন্ট করতে হবে নিচের নমুনা আউটপুটে যেভাবে দেখানো আছে ঠিক সেই ফরম্যাটে। প্রতিটি আউটপুটের পরে একটি নিউলাইন প্রিন্ট করতে হবে। আউটপুটে `=`-এর আগের ও পরের স্পেসটি লক্ষণীয়।\n",
    "\n",
    "### নমুনা ইনপুট / আউটপুট\n",
    "\n",
    "![](https://i.ibb.co/y5x7YF1/image.png)\n",
    "\n",
    "### Approach 1"
   ]
  },
  {
   "cell_type": "code",
   "execution_count": 1,
   "id": "c894ce2b",
   "metadata": {},
   "outputs": [
    {
     "name": "stdout",
     "output_type": "stream",
     "text": [
      "5\n",
      "12345 56789 14310 10062 96587\n",
      "Sum = 6\n",
      "Sum = 14\n",
      "Sum = 1\n",
      "Sum = 3\n",
      "Sum = 16\n"
     ]
    }
   ],
   "source": [
    "#include <iostream>\n",
    "using namespace std;\n",
    "\n",
    "int T;\n",
    "cin >> T;\n",
    "\n",
    "for (int i = 1; i <= T; i++) {\n",
    "    int N, reminder;\n",
    "    cin >> N;\n",
    "    int lsd = N % 10;\n",
    "    \n",
    "    while (N != 0) {\n",
    "        reminder = N % 10;\n",
    "        N /= 10;\n",
    "    }\n",
    "    cout << \"Sum = \" << lsd + reminder << endl;\n",
    "}"
   ]
  },
  {
   "cell_type": "markdown",
   "id": "49c94e8d",
   "metadata": {},
   "source": [
    "### Python Solution\n",
    "\n",
    "```py\n",
    "test_cases = int(input())\n",
    "\n",
    "for i in range(1, test_cases + 1):\n",
    "    number = int(input())\n",
    "\n",
    "    lsd = number % 10\n",
    "    while number >= 10:\n",
    "        number //= 10\n",
    "    \n",
    "    msd = number\n",
    "    print(f\"Sum = {lsd + msd}\")\n",
    "```"
   ]
  },
  {
   "cell_type": "markdown",
   "id": "6b2c05a3",
   "metadata": {},
   "source": [
    "### Approach 2\n",
    "\n",
    "without and kind of loop"
   ]
  },
  {
   "cell_type": "code",
   "execution_count": 2,
   "id": "46129695",
   "metadata": {},
   "outputs": [
    {
     "name": "stdout",
     "output_type": "stream",
     "text": [
      "5\n",
      "12345 56789 14310 10062 96587\n",
      "Sum = 6\n",
      "Sum = 14\n",
      "Sum = 1\n",
      "Sum = 3\n",
      "Sum = 16\n"
     ]
    }
   ],
   "source": [
    "#include <iostream>\n",
    "using namespace std;\n",
    "\n",
    "int T;\n",
    "cin >> T;\n",
    "\n",
    "for (int i = 1; i <= T; i++) {\n",
    "    int N, sum = 0;\n",
    "    cin >> N;\n",
    "    \n",
    "    // last digit\n",
    "    int lsd = N % 10;\n",
    "    sum += lsd;\n",
    "    \n",
    "    // first digit\n",
    "    int msd = N / 10000; // used 10,000 because number has only 5 digits\n",
    "    sum += msd;\n",
    "    \n",
    "    cout << \"Sum = \" << sum << endl;\n",
    "}"
   ]
  }
 ],
 "metadata": {
  "kernelspec": {
   "display_name": "C++11",
   "language": "C++11",
   "name": "xeus-cling-cpp11"
  },
  "language_info": {
   "codemirror_mode": "text/x-c++src",
   "file_extension": ".cpp",
   "mimetype": "text/x-c++src",
   "name": "c++",
   "version": "11"
  }
 },
 "nbformat": 4,
 "nbformat_minor": 5
}
