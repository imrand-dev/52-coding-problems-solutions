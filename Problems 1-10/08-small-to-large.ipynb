{
 "cells": [
  {
   "cell_type": "markdown",
   "id": "c3e7a377",
   "metadata": {},
   "source": [
    "- [সমস্যা ৮ — ছোটো থেকে বড়ো](https://dimikoj.com/problems/8/small-to-large)\n",
    "\n",
    "### সমস্যার বিবরণ\n",
    "\n",
    "তিনটি পৃথক সংখ্যা দেওয়া থাকবে। এদের ছোটো থেকে বড়ো আকারে প্রিন্ট করতে হবে।\n",
    "\n",
    "### ইনপুট\n",
    "\n",
    "ইনপুটের প্রথম লাইনে থাকবে টেস্ট কেসের সংখ্যা ${T (T <= 100)}$ । এরপরে ${T}$-সংখ্যক লাইন থাকবে। প্রতিটি লাইনে তিনটি করে পূর্ণসংখ্যা ${n_1}$, ${n_2}$, ${n_3}$ থাকবে যারা প্রত্যেকে স্বতন্ত্র (অর্থাৎ, কোনো দুটি সংখ্যা পরস্পর সমান নয়) এবং 1000-এর সমান বা ছোটো।\n",
    "\n",
    "### আউটপুট\n",
    "\n",
    "প্রতিটি কেসের জন্য একটি করে কেস নম্বর প্রিন্ট করতে হবে। এরপরে প্রদত্ত তিনটি সংখ্যাকে ছোটো থেকে বড়ো আকারে সাজিয়ে প্রিন্ট করতে হবে। পাশাপাশি দুটি সংখ্যার মধ্যে শুধু একটি স্পেস প্রিন্ট করতে হবে। নমুনা আউটপুটে আরো বিস্তারিত দেখতে পারো।\n",
    "\n",
    "### নমুনা ইনপুট / আউটপুট\n",
    "\n",
    "![](https://i.ibb.co/wLVhqQG/image.png)\n",
    "\n",
    "### Approach 1\n",
    "\n",
    "without any kind of `sort` function"
   ]
  },
  {
   "cell_type": "code",
   "execution_count": 1,
   "id": "1534db2a",
   "metadata": {},
   "outputs": [
    {
     "name": "stdout",
     "output_type": "stream",
     "text": [
      "3\n",
      "3 2 1\n",
      "Case 1: 1 2 3\n",
      "1 2 3 \n",
      "Case 2: 1 2 3\n",
      "10 5 6\n",
      "Case 3: 5 6 10\n"
     ]
    }
   ],
   "source": [
    "T = int(input())\n",
    "\n",
    "for i in range(1, T+1):\n",
    "    n1, n2, n3 = list(map(int, input().split()))\n",
    "    \n",
    "    if n1 > n2:\n",
    "        n1, n2 = n2, n1\n",
    "        \n",
    "    if n1 > n3:\n",
    "        n1, n3 = n3, n1\n",
    "        \n",
    "    if n2 > n3:\n",
    "        n2, n3 = n3, n2\n",
    "\n",
    "    print(f\"Case {i}: {n1} {n2} {n3}\")"
   ]
  },
  {
   "cell_type": "markdown",
   "id": "91060d30",
   "metadata": {},
   "source": [
    "### Approach 2"
   ]
  },
  {
   "cell_type": "code",
   "execution_count": 2,
   "id": "b4c933ee",
   "metadata": {},
   "outputs": [
    {
     "name": "stdout",
     "output_type": "stream",
     "text": [
      "2\n",
      "-10 6 5 -11\n",
      "Case 1: -11 -10 5 6\n",
      "-89 2 -990\n",
      "Case 2: -990 -89 2\n"
     ]
    }
   ],
   "source": [
    "T = int(input())\n",
    "\n",
    "for i in range(1, T+1):\n",
    "    nums = list(map(int, input().split()))\n",
    "    nums.sort()\n",
    "    \n",
    "    print(f\"Case {i}: {' '.join(str(i) for i in nums)}\")"
   ]
  }
 ],
 "metadata": {
  "kernelspec": {
   "display_name": "Python 3 (system-wide)",
   "language": "python",
   "name": "python3"
  },
  "language_info": {
   "codemirror_mode": {
    "name": "ipython",
    "version": 3
   },
   "file_extension": ".py",
   "mimetype": "text/x-python",
   "name": "python",
   "nbconvert_exporter": "python",
   "pygments_lexer": "ipython3",
   "version": "3.10.12"
  }
 },
 "nbformat": 4,
 "nbformat_minor": 5
}
