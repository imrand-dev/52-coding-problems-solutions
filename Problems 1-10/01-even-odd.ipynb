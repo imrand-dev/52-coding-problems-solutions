{
 "cells": [
  {
   "cell_type": "markdown",
   "id": "bb62c2e2",
   "metadata": {},
   "source": [
    "- [সমস্যা ১ — জোড়-বিজোড় ১](https://dimikoj.com/problems/1/even-odd-1)\n",
    "\n",
    "### সমস্যার বিবরণ\n",
    "\n",
    "একটি পূর্ণসংখ্যা দেওয়া থাকবে, সেটি জোড় না বিজোড় তা বের করতে হবে।\n",
    "\n",
    "### ইনপুট\n",
    "\n",
    "প্রথম লাইনে একটি সংখ্যা ${T (1 <= T <= 100)}$ দেওয়া থাকবে। পরবর্তীতে ${T}$ এর মান যত, ততটি লাইন থাকবে। প্রতিটি লাইনে একটি করে পূর্ণসংখ্যা ${N (0 <= N <= 2, 147, 483, 647)}$ দেওয়া থাকবে।\n",
    "\n",
    "### আউটপুট\n",
    "\n",
    "প্রতিটি পূর্ণসংখ্যার জন্য, সংখ্যাটি জোড় হলে `even`, আর বিজোড় হলে `odd` কথাটি প্রিন্ট করতে হবে।\n",
    "\n",
    "### নমুনা ইনপুট / আউটপুট\n",
    "\n",
    "![](https://i.ibb.co/wsW751K/image.png)"
   ]
  },
  {
   "cell_type": "code",
   "execution_count": 1,
   "id": "b47f44f1",
   "metadata": {},
   "outputs": [
    {
     "name": "stdout",
     "output_type": "stream",
     "text": [
      "3\n",
      "100 0 1111\n",
      "even\n",
      "even\n",
      "odd\n"
     ]
    }
   ],
   "source": [
    "#include <iostream>\n",
    "using namespace std;\n",
    "\n",
    "int T, N;\n",
    "cin >> T;\n",
    "\n",
    "for (int i = 1; i <= T; i++) {\n",
    "    cin >> N;\n",
    "    \n",
    "    if (N % 2 == 0) {\n",
    "        cout << \"even\" << endl;\n",
    "    } else {\n",
    "        cout << \"odd\" << endl;\n",
    "    }\n",
    "}"
   ]
  },
  {
   "cell_type": "markdown",
   "id": "5ac8b40c",
   "metadata": {},
   "source": [
    "### Python Solution\n",
    "\n",
    "```py\n",
    "test_cases = int(input())\n",
    "\n",
    "for _ in range(1, test_cases + 1):\n",
    "    number = int(input())\n",
    "    \n",
    "    print(\"even\" if number % 2 == 0 else \"odd\")\n",
    "```"
   ]
  }
 ],
 "metadata": {
  "kernelspec": {
   "display_name": "C++11",
   "language": "C++11",
   "name": "xeus-cling-cpp11"
  },
  "language_info": {
   "codemirror_mode": "text/x-c++src",
   "file_extension": ".cpp",
   "mimetype": "text/x-c++src",
   "name": "c++",
   "version": "11"
  }
 },
 "nbformat": 4,
 "nbformat_minor": 5
}
