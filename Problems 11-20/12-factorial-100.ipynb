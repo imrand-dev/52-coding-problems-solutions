{
 "cells": [
  {
   "cell_type": "markdown",
   "id": "d06468c2",
   "metadata": {},
   "source": [
    "- [সমস্যা ১২ — ফ্যাক্টরিয়াল ১০০](https://dimikoj.com/problems/12/factorial-100)\n",
    "\n",
    "### সমস্যার বিবরণ\n",
    "\n",
    "একটি সংখ্যার ফ্যাক্টরিয়ালের শেষে কতটি শূন্য ($0$) আছে, তা বের করতে হবে।\n",
    "\n",
    "### ইনপুট\n",
    "\n",
    "ইনপুটের প্রথম লাইনে থাকবে টেস্ট কেসের সংখ্যা ${T (T <= 100)}$। এরপরে $T$-সংখ্যক লাইন থাকবে। প্রতিটি লাইনে থাকবে একটি পূর্ণসংখ্যা ${N (0 <= N <= 120)}$\n",
    "\n",
    "### আউটপুট\n",
    "\n",
    "${N}$ ফ্যাক্টরিয়ালের শেষে কতটি শূন্য (${0}$) আছে, তা এক লাইনে প্রিন্ট করতে হবে।\n",
    "\n",
    "### নমুনা ইনপুট আউটপুট\n",
    "\n",
    "![](https://i.ibb.co/P4xwkyQ/image.png)"
   ]
  },
  {
   "cell_type": "code",
   "execution_count": 1,
   "id": "2568e740",
   "metadata": {},
   "outputs": [
    {
     "name": "stdout",
     "output_type": "stream",
     "text": [
      "3\n",
      "6\n",
      "↬ 1\n",
      "10\n",
      "↬ 2\n",
      "100\n",
      "↬ 24\n"
     ]
    }
   ],
   "source": [
    "test_cases = int(input())\n",
    "\n",
    "def factorial(n):\n",
    "    if n == 1:\n",
    "        return 1\n",
    "    return factorial(n-1) * n\n",
    "\n",
    "\n",
    "for _ in range(1, test_cases + 1):\n",
    "    num = int(input())\n",
    "    result = factorial(num)\n",
    "    count = 0\n",
    "    \n",
    "    while (result != 0):\n",
    "        # if a number is divided by 10 and number's last digit is 0 then reminder must be 0\n",
    "        reminder = result % 10\n",
    "        if reminder == 0:\n",
    "            count += 1\n",
    "        else:\n",
    "            break\n",
    "        \n",
    "        result //= 10\n",
    "    \n",
    "    print(f\"↬ {count}\")"
   ]
  },
  {
   "cell_type": "code",
   "execution_count": 2,
   "id": "413d2706",
   "metadata": {},
   "outputs": [
    {
     "name": "stdout",
     "output_type": "stream",
     "text": [
      "3\n",
      "120\n",
      "↬ 28\n",
      "115\n",
      "↬ 27\n",
      "110\n",
      "↬ 26\n"
     ]
    }
   ],
   "source": [
    "from math import factorial\n",
    "\n",
    "test_cases = int(input())\n",
    "\n",
    "for _ in range(1, test_cases + 1):\n",
    "    num = int(input())\n",
    "    result = factorial(num)\n",
    "    count = 0\n",
    "    \n",
    "    while (result != 0):\n",
    "        reminder = result % 10\n",
    "        if reminder == 0:\n",
    "            count += 1\n",
    "        else:\n",
    "            break\n",
    "        \n",
    "        result //= 10\n",
    "    \n",
    "    print(f\"↬ {count}\")"
   ]
  }
 ],
 "metadata": {
  "kernelspec": {
   "display_name": "Python 3 (system-wide)",
   "language": "python",
   "name": "python3"
  },
  "language_info": {
   "codemirror_mode": {
    "name": "ipython",
    "version": 3
   },
   "file_extension": ".py",
   "mimetype": "text/x-python",
   "name": "python",
   "nbconvert_exporter": "python",
   "pygments_lexer": "ipython3",
   "version": "3.10.12"
  }
 },
 "nbformat": 4,
 "nbformat_minor": 5
}
