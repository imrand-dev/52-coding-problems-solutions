{
 "cells": [
  {
   "attachments": {},
   "cell_type": "markdown",
   "id": "beae9757",
   "metadata": {},
   "source": [
    "- [সমস্যা ২০ — শব্দ গণনা ২](https://dimikoj.com/problems/20/word-count-2)\n",
    "\n",
    "### সমস্যার বিবরণ\n",
    "\n",
    "একটি বাক্যে মোট কতগুলো শব্দ আছে, সেটি বের করার প্রোগ্রাম লিখতে হবে। দুটি শব্দের মধ্যে যেকোনো যতিচিহ্ন থাকতে পারে। অর্থাৎ দুটি শব্দের মধ্যে স্পেস ক্যারেক্টার ছাড়াও কমা, সেমিকোলন ইত্যাদি থাকতে পারে।\n",
    "\n",
    "### ইনপুট\n",
    "\n",
    "প্রোগ্রামটির প্রথম ইনপুট হবে একটি পূর্ণসংখ্যা ${T (1 <= T <= 100)}$, যা টেস্ট কেসের সংখ্যা নির্দেশ করে। পরবর্তী $T$-সংখ্যক লাইনে ইনপুট হবে একটি স্ট্রিং $S$, যেখানে ${S}$ এর সর্বোচ্চ দৈর্ঘ্য হবে $10,000$। প্রতিটি স্ট্রিংয়ে দুটি শব্দ একটিমাত্র স্পেস `\" \"` ক্যারেক্টার দিয়ে আলাদা করা থাকবে। স্ট্রিংটিতে ইংরেজি বর্ণ ও স্পেস ছাড়া অন্য কোনো ক্যারেক্টার থাকবে না।\n",
    "\n",
    "### আউটপুট\n",
    "\n",
    "প্রোগ্রামটির আউটপুটে $S$-এ মোট কতগুলো শব্দ আছে, সেটি গণনা করে দেখাতে হবে। আউটপুটে `=` চিহ্নের আগে ও পরে একটি করে স্পেস দিতে হবে।\n",
    "\n",
    "### নমুনা ইনপুট / আউটপুট\n",
    "\n",
    "![](https://i.ibb.co/R71Ncmx/image.png)"
   ]
  },
  {
   "cell_type": "code",
   "execution_count": 1,
   "id": "b36c3a18",
   "metadata": {},
   "outputs": [
    {
     "name": "stdout",
     "output_type": "stream",
     "text": [
      "4\n",
      "I broke my computer.\n",
      "Count = 4\n",
      "His last play was a big hit.\n",
      "Count = 7\n",
      "Hurrah! was heard on all sides\n",
      "Count = 6\n",
      "Hello, I'm Brooker and you're watching TV\n",
      "Count = 7\n"
     ]
    }
   ],
   "source": [
    "T = int(input())\n",
    "\n",
    "for _ in range(1, T+1):\n",
    "    String = input()\n",
    "    \n",
    "    count = 0\n",
    "    for i in String:\n",
    "        if i == \" \":\n",
    "            count += 1\n",
    "        \n",
    "    print(f\"Count = {count+1}\")"
   ]
  }
 ],
 "metadata": {
  "kernelspec": {
   "display_name": "Python 3 (system-wide)",
   "language": "python",
   "name": "python3"
  },
  "language_info": {
   "codemirror_mode": {
    "name": "ipython",
    "version": 3
   },
   "file_extension": ".py",
   "mimetype": "text/x-python",
   "name": "python",
   "nbconvert_exporter": "python",
   "pygments_lexer": "ipython3",
   "version": "3.10.12"
  }
 },
 "nbformat": 4,
 "nbformat_minor": 5
}
