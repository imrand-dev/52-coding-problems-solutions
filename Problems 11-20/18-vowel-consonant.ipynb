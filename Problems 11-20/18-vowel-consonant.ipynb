{
 "cells": [
  {
   "cell_type": "markdown",
   "id": "7729b51b",
   "metadata": {},
   "source": [
    "- [সমস্যা ১৮ — স্বরবর্ণ – ব্যঞ্জনবর্ণ](https://dimikoj.com/problems/18/vowel-consonant)\n",
    "\n",
    "### সমস্যার বিবরণ\n",
    "\n",
    "এমন একটি প্রোগ্রাম লিখতে হবে যেটি একটি বাক্যে অবস্থিত স্বরবর্ণ (vowels) ও ব্যঞ্জনবর্ণগুলোকে (consonants) আলাদা আলাদা প্রিন্ট করবে।\n",
    "\n",
    "### ইনপুট\n",
    "\n",
    "ইনপুটের প্রথম লাইনে থাকবে টেস্ট কেসের সংখ্যা ${T (1 <= T <= 100)}$। এরপরে ${T}$-সংখ্যক লাইন থাকবে। প্রতিটি লাইনে থাকবে একটি স্ট্রিং ${S}$। স্ট্রিংয়ের সবগুলো বর্ণই ছোটো হাতের লেখা থাকবে।\n",
    "\n",
    "### আউটপুট\n",
    "\n",
    "প্রোগ্রামটির আউটপুটে স্ট্রিংটিতে অবস্থিত স্বরবর্ণ ও ব্যঞ্জনবর্ণগুলোকে আলাদা আলাদাভাবে পরপর প্রিন্ট করতে হবে।\n",
    "\n",
    "### নমুনা ইনপুট / আউটপুট\n",
    "\n",
    "![](https://i.ibb.co/D8QjJvq/image.png)"
   ]
  },
  {
   "cell_type": "code",
   "execution_count": 1,
   "id": "082711d3",
   "metadata": {},
   "outputs": [
    {
     "name": "stdout",
     "output_type": "stream",
     "text": [
      "3\n",
      "it is a rainy sunday\n",
      "iiaaiua\n",
      "tsrnysndy\n",
      "his mind was blown\n",
      "iiao\n",
      "hsmndwsblwn\n",
      "no way no good\n",
      "oaooo\n",
      "nwyngd\n"
     ]
    }
   ],
   "source": [
    "T = int(input())\n",
    "\n",
    "for _ in range(1, T+1):\n",
    "    string = input().lower()\n",
    "    \n",
    "    vowels = consontants = \"\"\n",
    "    for i in string:\n",
    "        if i == \" \":\n",
    "            continue\n",
    "        \n",
    "        if i in \"aeiou\":\n",
    "            vowels += i\n",
    "        else:\n",
    "            consontants += i\n",
    "    \n",
    "    print(vowels, consontants, sep=\"\\n\")"
   ]
  }
 ],
 "metadata": {
  "kernelspec": {
   "display_name": "Python 3 (system-wide)",
   "language": "python",
   "name": "python3"
  },
  "language_info": {
   "codemirror_mode": {
    "name": "ipython",
    "version": 3
   },
   "file_extension": ".py",
   "mimetype": "text/x-python",
   "name": "python",
   "nbconvert_exporter": "python",
   "pygments_lexer": "ipython3",
   "version": "3.10.12"
  }
 },
 "nbformat": 4,
 "nbformat_minor": 5
}
