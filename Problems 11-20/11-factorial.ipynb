{
 "cells": [
  {
   "cell_type": "markdown",
   "id": "763ac019",
   "metadata": {},
   "source": [
    "- [সমস্যা ১১ — গৌণিক বা ফ্যাক্টরিয়াল](https://dimikoj.com/problems/11/factorial)\n",
    "\n",
    "### সমস্যার বিবরণ\n",
    "\n",
    "এমন একটি প্রোগ্রাম লিখতে হবে, যেটি একটি সংখ্যার গৌণিক বা ফ্যাক্টরিয়াল বের করতে পারে।\n",
    "\n",
    "### ইনপুট\n",
    "\n",
    "ইনপুটের প্রথম লাইনে থাকবে টেস্ট কেসের সংখ্যা ${T (T <= 100)}$। এরপরে ${T}$-সংখ্যক লাইন থাকবে। প্রতিটি লাইনে থাকবে একটি পূর্ণসংখ্যা ${N (0 <= N <= 15)}$\n",
    "\n",
    "### আউটপুট\n",
    "\n",
    "প্রোগ্রামটির আউটপুটে গৌণিক বা ফ্যাক্টরিয়াল প্রিন্ট করতে হবে।\n",
    "\n",
    "### নমুনা ইনপুট / আউটপুট\n",
    "\n",
    "![](https://i.ibb.co/0ZF2QDK/image.png)\n",
    "\n",
    "### Iterative Approach"
   ]
  },
  {
   "cell_type": "code",
   "execution_count": 1,
   "id": "6ff87ca8",
   "metadata": {},
   "outputs": [
    {
     "name": "stdout",
     "output_type": "stream",
     "text": [
      "3\n",
      "6\n",
      "↬ 720\n",
      "10\n",
      "↬ 3628800\n",
      "15\n",
      "↬ 1307674368000\n"
     ]
    }
   ],
   "source": [
    "test_cases = int(input())\n",
    "\n",
    "for _ in range(1, test_cases+1):\n",
    "    factorial = 1\n",
    "    num = int(input())\n",
    "    \n",
    "    for i in range(2, num+1):\n",
    "        factorial *= i\n",
    "        \n",
    "    print(f\"↬ {factorial}\")"
   ]
  },
  {
   "cell_type": "markdown",
   "id": "a7ee4c5b",
   "metadata": {},
   "source": [
    "### Standard library"
   ]
  },
  {
   "cell_type": "code",
   "execution_count": 2,
   "id": "5d2305b9",
   "metadata": {},
   "outputs": [
    {
     "name": "stdout",
     "output_type": "stream",
     "text": [
      "3\n",
      "6\n",
      "↬ 720\n",
      "10\n",
      "↬ 3628800\n",
      "100\n",
      "↬ 93326215443944152681699238856266700490715968264381621468592963895217599993229915608941463976156518286253697920827223758251185210916864000000000000000000000000\n"
     ]
    }
   ],
   "source": [
    "from math import factorial\n",
    "\n",
    "test_cases = int(input())\n",
    "\n",
    "for _ in range(1, test_cases+1):\n",
    "    num = int(input())\n",
    "    print(f\"↬ {factorial(num)}\")"
   ]
  },
  {
   "cell_type": "markdown",
   "id": "d79e011d",
   "metadata": {},
   "source": [
    "### Recursive Approach"
   ]
  },
  {
   "cell_type": "code",
   "execution_count": 3,
   "id": "fa6a1819",
   "metadata": {},
   "outputs": [
    {
     "name": "stdout",
     "output_type": "stream",
     "text": [
      "3\n",
      "6\n",
      "↬ 720\n",
      "2\n",
      "↬ 2\n",
      "25\n",
      "↬ 15511210043330985984000000\n"
     ]
    }
   ],
   "source": [
    "test_cases = int(input())\n",
    "\n",
    "def factorial(n):\n",
    "    if n == 1:\n",
    "        return 1\n",
    "    return factorial(n-1) * n\n",
    "\n",
    "\n",
    "for _ in range(1, test_cases + 1):\n",
    "    num = int(input())\n",
    "    \n",
    "    print(f\"↬ {factorial(num)}\")"
   ]
  }
 ],
 "metadata": {
  "kernelspec": {
   "display_name": "Python 3 (system-wide)",
   "language": "python",
   "name": "python3"
  },
  "language_info": {
   "codemirror_mode": {
    "name": "ipython",
    "version": 3
   },
   "file_extension": ".py",
   "mimetype": "text/x-python",
   "name": "python",
   "nbconvert_exporter": "python",
   "pygments_lexer": "ipython3",
   "version": "3.10.12"
  }
 },
 "nbformat": 4,
 "nbformat_minor": 5
}
