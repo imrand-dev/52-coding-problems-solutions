{
 "cells": [
  {
   "cell_type": "markdown",
   "id": "115510cd",
   "metadata": {},
   "source": [
    "- [সমস্যা ১৯ — শব্দ গণনা ১](https://dimikoj.com/problems/19/word-count-1)\n",
    "\n",
    "### সমস্যার বিবরণ\n",
    "\n",
    "একটি বাক্যে অবস্থিত শব্দগুলোর মধ্যকার স্পেস হিসাব করে মোট শব্দ কতগুলো আছে, সেটি বের করার প্রোগ্রাম লিখতে হবে।\n",
    "\n",
    "### ইনপুট\n",
    "\n",
    "প্রোগ্রামটির প্রথম ইনপুট হবে একটি পূর্ণসংখ্যা ${T (1 <= T <= 100)}$, যা টেস্ট কেসের সংখ্যা নির্দেশ করে। পরবর্তী $T$-সংখ্যক লাইনে ইনপুট হবে একটি স্ট্রিং $S$, যেখানে ${S}$ এর সর্বোচ্চ দৈর্ঘ্য হবে $10,000$। প্রতিটি স্ট্রিংয়ে দুটি শব্দ একটিমাত্র স্পেস `\" \"` ক্যারেক্টার দিয়ে আলাদা করা থাকবে। স্ট্রিংটিতে ইংরেজি বর্ণ ও স্পেস ছাড়া অন্য কোনো ক্যারেক্টার থাকবে না।\n",
    "\n",
    "### আউটপুট\n",
    "\n",
    "প্রোগ্রামটির আউটপুটে $S$-এ মোট কতগুলো শব্দ আছে, সেটি গণনা করে দেখাতে হবে। আউটপুটে `=` চিহ্নের আগে ও পরে একটি করে স্পেস দিতে হবে।\n",
    "\n",
    "### নমুনা ইনপুট / আউটপুট\n",
    "\n",
    "![](https://i.ibb.co/gtWVKrQ/image.png)"
   ]
  },
  {
   "cell_type": "code",
   "execution_count": 1,
   "id": "0c23dae0",
   "metadata": {},
   "outputs": [
    {
     "name": "stdout",
     "output_type": "stream",
     "text": [
      "5\n",
      "Hello World\n",
      "Count = 2\n",
      "Dhaka is the capital of Bangladesh\n",
      "Count = 6\n",
      "It is the winter of discontent\n",
      "Count = 6\n",
      "I broke my computer\n",
      "Count = 4\n",
      "His last play was a big hit\n",
      "Count = 7\n"
     ]
    }
   ],
   "source": [
    "T = int(input())\n",
    "\n",
    "for _ in range(1, T+1):\n",
    "    string = input()\n",
    "    \n",
    "    array_of_string = string.split() # default is whitespace\n",
    "    print(f\"Count = {len(array_of_string)}\")"
   ]
  }
 ],
 "metadata": {
  "kernelspec": {
   "display_name": "Python 3 (system-wide)",
   "language": "python",
   "name": "python3"
  },
  "language_info": {
   "codemirror_mode": {
    "name": "ipython",
    "version": 3
   },
   "file_extension": ".py",
   "mimetype": "text/x-python",
   "name": "python",
   "nbconvert_exporter": "python",
   "pygments_lexer": "ipython3",
   "version": "3.10.12"
  }
 },
 "nbformat": 4,
 "nbformat_minor": 5
}
