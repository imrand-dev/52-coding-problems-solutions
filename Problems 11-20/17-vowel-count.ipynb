{
 "cells": [
  {
   "attachments": {},
   "cell_type": "markdown",
   "id": "0e1e64fa",
   "metadata": {},
   "source": [
    "- [সমস্যা ১৭ — স্বরবর্ণ গণনা](https://dimikoj.com/problems/17/vowel-count)\n",
    "\n",
    "### সমস্যার বিবরণ\n",
    "\n",
    "এমন একটি প্রোগ্রাম লিখতে হবে, যেটি একটি বাক্যে কতগুলো স্বরবর্ণ বা vowel আছে, সেটি গণনা করবে।\n",
    "\n",
    "### ইনপুট\n",
    "\n",
    "ইনপুটের প্রথম লাইনে থাকবে টেস্ট কেসের সংখ্যা ${T (T <= 100)}$। এরপরে ${T}$-সংখ্যক লাইন থাকবে। প্রতিটি লাইনে থাকবে একটি স্ট্রিং ${S}$ (${S}$-এর দৈর্ঘ্য ${1000}$-এর বেশি নয়)।\n",
    "\n",
    "### আউটপুট\n",
    "\n",
    "প্রোগ্রামটির আউটপুটে স্ট্রিং ${S}$-এর মধ্যে স্বরবর্ণের সংখ্যা (Number of vowels) প্রিন্ট করতে হবে। `=` চিহ্নের আগের এবং পরের স্পেস লক্ষণীয়।\n",
    "\n",
    "### নমুনা ইনপুট / আউটপুট\n",
    "\n",
    "![](https://i.ibb.co/8rr99Xp/image.png)"
   ]
  },
  {
   "cell_type": "code",
   "execution_count": 1,
   "id": "81943e12",
   "metadata": {},
   "outputs": [
    {
     "name": "stdout",
     "output_type": "stream",
     "text": [
      "3\n",
      "i am a programmer\n",
      "Number of vowels = 6\n",
      "happy coding\n",
      "Number of vowels = 3\n",
      "hello world\n",
      "Number of vowels = 3\n"
     ]
    }
   ],
   "source": [
    "T = int(input())\n",
    "\n",
    "for _ in range(1, T+1):\n",
    "    string = input()\n",
    "    \n",
    "    count = 0\n",
    "    for char in string:\n",
    "        if char in \"aeiou\":\n",
    "            count += 1\n",
    "    \n",
    "    if count != 0:\n",
    "        print(f\"Number of vowels = {count}\")"
   ]
  }
 ],
 "metadata": {
  "kernelspec": {
   "display_name": "Python 3 (system-wide)",
   "language": "python",
   "name": "python3"
  },
  "language_info": {
   "codemirror_mode": {
    "name": "ipython",
    "version": 3
   },
   "file_extension": ".py",
   "mimetype": "text/x-python",
   "name": "python",
   "nbconvert_exporter": "python",
   "pygments_lexer": "ipython3",
   "version": "3.10.12"
  }
 },
 "nbformat": 4,
 "nbformat_minor": 5
}
