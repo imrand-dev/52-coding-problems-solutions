{
 "cells": [
  {
   "cell_type": "markdown",
   "id": "b449d2f1",
   "metadata": {},
   "source": [
    "- [সমস্যা ১৫ — অক্ষর গণনা](https://dimikoj.com/problems/15/character-count)\n",
    "\n",
    "### সমস্যার বিবরণ\n",
    "\n",
    "এমন একটি প্রোগ্রাম লিখতে হবে বাক্যে সবগুলো বর্ণ (letter) কত বার করে এসেছে, সেটি প্রিন্ট করবে।\n",
    "\n",
    "### ইনপুট\n",
    "\n",
    "প্রথম লাইনে একটি পূর্ণসংখ্যা ${T (1 <= T <= 100)}$ থাকবে। পরবর্তীতে ${T}$-সংখ্যক লাইন থাকবে। প্রতিটি লাইনে থাকবে একটি স্ট্রিং ${S}$(${S}$-এর দৈর্ঘ্য ${1000}$-এর বেশি নয়)। স্ট্রিংয়ের সবগুলো বর্ণই ছোটো হাতের লেখা থাকবে।\n",
    "\n",
    "### আউটপুট\n",
    "\n",
    "প্রোগ্রামটির আউটপুটে স্ট্রিং $S$-এ কোন বর্ণটি কত বার আছে, সেটি বর্ণানুক্রমে প্রিন্ট করতে হবে। আউটপুটে `=` চিহ্নের আগে ও পরের স্পেসটি লক্ষণীয়।\n",
    "\n",
    "### নমুনা ইনপুট / আউটপুট\n",
    "\n",
    "![](https://i.ibb.co/PTmsZ7H/image.png)"
   ]
  },
  {
   "cell_type": "code",
   "execution_count": 1,
   "id": "e698cbb0",
   "metadata": {},
   "outputs": [
    {
     "name": "stdout",
     "output_type": "stream",
     "text": [
      "3\n",
      "hello\n",
      "e = 1\n",
      "h = 1\n",
      "l = 2\n",
      "o = 1\n",
      "\n",
      "baby\n",
      "a = 1\n",
      "b = 2\n",
      "y = 1\n",
      "\n",
      "programming\n",
      "a = 1\n",
      "g = 2\n",
      "i = 1\n",
      "m = 2\n",
      "n = 1\n",
      "o = 1\n",
      "p = 1\n",
      "r = 2\n",
      "\n"
     ]
    }
   ],
   "source": [
    "T = int(input())\n",
    "\n",
    "for _ in range(1, T+1):\n",
    "    string = input().lower()\n",
    "    sorted_string = sorted(set(string))\n",
    "    \n",
    "    for i in sorted_string:\n",
    "        count = string.count(i)\n",
    "        print(f\"{i} = {count}\")\n",
    "    \n",
    "    if i != T:\n",
    "        print()"
   ]
  }
 ],
 "metadata": {
  "kernelspec": {
   "display_name": "Python 3 (system-wide)",
   "language": "python",
   "name": "python3"
  },
  "language_info": {
   "codemirror_mode": {
    "name": "ipython",
    "version": 3
   },
   "file_extension": ".py",
   "mimetype": "text/x-python",
   "name": "python",
   "nbconvert_exporter": "python",
   "pygments_lexer": "ipython3",
   "version": "3.10.12"
  }
 },
 "nbformat": 4,
 "nbformat_minor": 5
}
