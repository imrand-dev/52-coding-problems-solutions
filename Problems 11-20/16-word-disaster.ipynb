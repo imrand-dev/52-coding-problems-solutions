{
 "cells": [
  {
   "cell_type": "markdown",
   "id": "0efabb59",
   "metadata": {},
   "source": [
    "- [সমস্যা ১৬ — শব্দ বিপর্যয়](https://dimikoj.com/problems/16/word-disaster)\n",
    "\n",
    "### সমস্যার বিবরণ\n",
    "\n",
    "এমন একটি প্রোগ্রাম লিখতে হবে, যেটি একটি বাক্যের সবগুলো শব্দকে উলটো করে দেখাবে।\n",
    "\n",
    "### ইনপুট\n",
    "\n",
    "ইনপুটের প্রথম লাইনে থাকবে টেস্ট কেসের সংখ্যা ${T (T <= 100)}$। এরপরে ${T}$-সংখ্যক লাইন থাকবে। প্রতিটি লাইনে থাকবে একটি স্ট্রিং ${S}$ (${S}$-এর দৈর্ঘ্য ${1000}$-এর বেশি নয়)।\n",
    "\n",
    "### আউটপুট\n",
    "\n",
    "প্রোগ্রামটির আউটপুটে ${S}$-এর প্রত্যেকটি শব্দকে উলটো করে প্রিন্ট করতে হবে।\n",
    "\n",
    "### নমুনা ইনপুট / আউটপুট\n",
    "\n",
    "![](https://i.ibb.co/nm4VSrD/image.png)"
   ]
  },
  {
   "cell_type": "code",
   "execution_count": 1,
   "id": "f6b8a19a",
   "metadata": {},
   "outputs": [
    {
     "name": "stdout",
     "output_type": "stream",
     "text": [
      "2\n",
      "I broke my computer.\n",
      "↬ I ekorb ym .retupmoc\n",
      "His last play was a big hit.\n",
      "↬ siH tsal yalp saw a gib .tih\n"
     ]
    }
   ],
   "source": [
    "T = int(input())\n",
    "\n",
    "for _ in range(1, T+1):\n",
    "    string = input().split()\n",
    "    \n",
    "    s = \" \".join(i[::-1] for i in string)\n",
    "    print(f\"↬ {s}\")"
   ]
  }
 ],
 "metadata": {
  "kernelspec": {
   "display_name": "Python 3 (system-wide)",
   "language": "python",
   "name": "python3"
  },
  "language_info": {
   "codemirror_mode": {
    "name": "ipython",
    "version": 3
   },
   "file_extension": ".py",
   "mimetype": "text/x-python",
   "name": "python",
   "nbconvert_exporter": "python",
   "pygments_lexer": "ipython3",
   "version": "3.10.12"
  }
 },
 "nbformat": 4,
 "nbformat_minor": 5
}
