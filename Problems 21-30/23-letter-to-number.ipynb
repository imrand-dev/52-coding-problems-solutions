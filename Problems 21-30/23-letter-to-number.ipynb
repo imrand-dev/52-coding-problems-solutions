{
 "cells": [
  {
   "cell_type": "markdown",
   "id": "6ffee073",
   "metadata": {},
   "source": [
    "- [সমস্যা ২৩ — বর্ণ থেকে সংখ্যা](https://dimikoj.com/problems/23/letter-to-number)\n",
    "\n",
    "### সমস্যার বিবরণ\n",
    "\n",
    "ইংরেজি বর্ণমালা ${A, B, C, D...}$-এর সঙ্গে আমাদের পরিচয় হয় শৈশবেই। আমরা জানি, ইংরেজি বর্ণমালা $52$ টি। তোমার কাজ হচ্ছে ${A=1, B=2, C=3... Z=26}$ বিবেচনা করে এমন একটি প্রোগ্রাম লেখা, যেটি একটি বর্ণগুচ্ছকে সাংখ্যিকগুচ্ছে রূপান্তর করবে। যেমন–${ABZ=1226}$\n",
    "\n",
    "### ইনপুট\n",
    "\n",
    "প্রোগ্রামটির ইনপুট হবে একটি পূর্ণসংখ্যা ${T(1 <= T <= 100)}$ যা টেস্ট কেসের সংখ্যা নির্দেশ করে। পরবর্তী $T$-সংখ্যক লাইনে প্রোগ্রামটির ইনপুট হবে একটি স্ট্রিং $S (S <= 100)$ । স্ট্রিংয়ের সবগুলো বর্ণই বড়ো হাতের লেখা থাকবে।\n",
    "\n",
    "### আউটপুট\n",
    "\n",
    "প্রোগ্রামটির আউটপুটে স্ট্রিং $S$-এর প্রতিটি অক্ষরের সাংখ্যিক মান প্রিন্ট করতে হবে।\n",
    "\n",
    "### নমুনা ইনপুট আউটপুট\n",
    "\n",
    "![](https://i.ibb.co/sV4wHfy/image.png)"
   ]
  },
  {
   "cell_type": "code",
   "execution_count": 1,
   "id": "ab408b77",
   "metadata": {},
   "outputs": [
    {
     "name": "stdout",
     "output_type": "stream",
     "text": [
      "3\n",
      "ABZ\n",
      "1226\n",
      "Zyb\n",
      "26252\n",
      "coding\n",
      "31549147\n"
     ]
    }
   ],
   "source": [
    "T = int(input())\n",
    "\n",
    "for _ in range(1, T+1):\n",
    "    string = input().upper()\n",
    "    \n",
    "    numerical = \"\"\n",
    "    for i in string:\n",
    "        if i >= \"A\" and i <= \"Z\":\n",
    "            numerical += str(ord(i) - 64)\n",
    "        \n",
    "    print(numerical)"
   ]
  }
 ],
 "metadata": {
  "kernelspec": {
   "display_name": "Python 3 (system-wide)",
   "language": "python",
   "name": "python3"
  },
  "language_info": {
   "codemirror_mode": {
    "name": "ipython",
    "version": 3
   },
   "file_extension": ".py",
   "mimetype": "text/x-python",
   "name": "python",
   "nbconvert_exporter": "python",
   "pygments_lexer": "ipython3",
   "version": "3.10.12"
  }
 },
 "nbformat": 4,
 "nbformat_minor": 5
}
