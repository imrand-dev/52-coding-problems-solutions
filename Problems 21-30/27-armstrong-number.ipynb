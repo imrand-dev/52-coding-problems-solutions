{
 "cells": [
  {
   "cell_type": "markdown",
   "id": "aabc7412",
   "metadata": {},
   "source": [
    "- [সমস্যা ২৭ — আর্মস্ট্রং সংখ্যা](https://dimikoj.com/problems/27/armstrong-number)\n",
    "\n",
    "### সমস্যার বিবরণ\n",
    "\n",
    "যদি একটি সংখ্যার প্রতিটি অঙ্ককে সংখ্যাটির মোট অঙ্কের সমান পাওয়ার দিয়ে বৃদ্ধি করে, পাওয়ারগুলোকে আবার যোগ করে সেই সংখ্যাটি পুনরায় পাওয়া যায়, তবে সংখ্যাটিকে আর্মস্ট্রং সংখ্যা বলে। সেক্ষেত্রে তিন অঙ্কের একটি সংখ্যার পাওয়ার বা শক্তি হবে 3। যেমন– $153$ একটি আর্মস্ট্রং সংখ্যা, কারণ $1^{3} + 5^{3} + 3^{3} = 1 + 125 + 27 = 153$। এমন একটি প্রোগ্রাম লিখতে হবে, যেটি তিন অঙ্কের একটি সংখ্যা আর্মস্ট্রং সংখ্যা কি না, তা নির্ণয় করবে।\n",
    "\n",
    "### ইনপুট\n",
    "\n",
    "প্রোগ্রামটির প্রথম ইনপুট হবে একটি পূর্ণসংখ্যা $T(1 <= T <= 1000)$ যেটি টেস্ট কেসের সংখ্যা বোঝায়। পরবর্তী $T$-সংখ্যক লাইনে ইনপুট হবে তিন অঙ্কের পূর্ণসংখ্যা $n \\ (100 <= n <= 999)$।\n",
    "\n",
    "### আউটপুট\n",
    "\n",
    "প্রোগ্রামটির আউটপুটে যদি $n$ আর্মস্ট্রং সংখ্যা হয়, তাহলে প্রিন্ট করবে `n is an armstrong number!` অন্যথায় প্রিন্ট করবে `n is not an armstrong number!`।\n",
    "\n",
    "### নমুনা ইনপুট / আউটপুট\n",
    "\n",
    "![](https://i.ibb.co/FqskBtL/image.png)\n",
    "\n",
    "### Approach 1"
   ]
  },
  {
   "cell_type": "code",
   "execution_count": 1,
   "id": "1305595f",
   "metadata": {},
   "outputs": [
    {
     "name": "stdout",
     "output_type": "stream",
     "text": [
      "3\n",
      "100\n",
      "100 is not an armstrong number!\n",
      "153\n",
      "153 is an armstrong number!\n",
      "371\n",
      "371 is an armstrong number!\n"
     ]
    }
   ],
   "source": [
    "T = int(input())\n",
    "\n",
    "for _ in range(1, T+1):\n",
    "  original_num = input()\n",
    "  result_num = sum(int(digit) ** 3 for digit in original_num)\n",
    "  \n",
    "  if result_num == int(original_num):\n",
    "    print(f\"{original_num} is an armstrong number!\")\n",
    "  else:\n",
    "    print(f\"{original_num} is not an armstrong number!\")"
   ]
  },
  {
   "cell_type": "markdown",
   "id": "3302cb61",
   "metadata": {},
   "source": [
    "### Approach 2"
   ]
  },
  {
   "cell_type": "code",
   "execution_count": 2,
   "id": "a60eeb8a",
   "metadata": {},
   "outputs": [
    {
     "name": "stdout",
     "output_type": "stream",
     "text": [
      "3\n",
      "153\n",
      "153 is an armstrong number!\n",
      "100\n",
      "100 is not an armstrong number!\n",
      "371\n",
      "371 is an armstrong number!\n"
     ]
    }
   ],
   "source": [
    "T = int(input())\n",
    "\n",
    "for _ in range(1, T+1):\n",
    "  num = num_2 = int(input())\n",
    "  \n",
    "  result = 0\n",
    "  while num != 0:\n",
    "    reminder = num % 10\n",
    "    result += (reminder ** 3)\n",
    "    num //= 10\n",
    "    \n",
    "  if result == num_2:\n",
    "    print(f\"{num_2} is an armstrong number!\")\n",
    "  else:\n",
    "    print(f\"{num_2} is not an armstrong number!\")"
   ]
  }
 ],
 "metadata": {
  "kernelspec": {
   "display_name": "Python 3 (system-wide)",
   "language": "python",
   "name": "python3"
  },
  "language_info": {
   "codemirror_mode": {
    "name": "ipython",
    "version": 3
   },
   "file_extension": ".py",
   "mimetype": "text/x-python",
   "name": "python",
   "nbconvert_exporter": "python",
   "pygments_lexer": "ipython3",
   "version": "3.10.12"
  }
 },
 "nbformat": 4,
 "nbformat_minor": 5
}
