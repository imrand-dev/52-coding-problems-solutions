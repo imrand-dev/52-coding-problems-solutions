{
 "cells": [
  {
   "cell_type": "markdown",
   "id": "2ff8faa5",
   "metadata": {},
   "source": [
    "- [সমস্যা ২৬ — এলিয়েন গুপী](https://dimikoj.com/problems/26/alien-gupi)\n",
    "\n",
    "### সমস্যার বিবরণ\n",
    "\n",
    "ফ্লাইং সসারে করে কিরিমিরি গ্রহ থেকে এলিয়েন গুপী পৃথিবীতে এসেছে। সে সঙ্গে করে নির্দিষ্ট পরিমাণ খাবার নিয়ে এসেছে। গুপী যে গ্রহ থেকে এসেছে সেখানকার প্রাণীরা প্রতিদিনের জন্য সরবরাহ করা খাবারের অর্ধেক এক দিনে খেয়ে থাকে। খাবার যখন এক কেজির কম বা সমান হবে গুপী তখন গ্রহে ফিরে যাবে। তোমার কাজ হচ্ছে এমন একটি প্রোগ্রাম লেখা, যেটি নির্দিষ্ট পরিমাণ খাবার (কেজিতে) শেষ করতে গুপীর কত দিন লাগবে, সেটি বের করা।\n",
    "\n",
    "### ইনপুট\n",
    "\n",
    "প্রোগ্রামটির প্রথম ইনপুট হবে একটি পূর্ণসংখ্যা $T(1 <= T <= 1000)$ যেটি টেস্ট কেসের সংখ্যা বোঝায়। প্রতিটি টেস্ট কেসে একটি বাস্তব সংখ্যা $X$ ইনপুট নিতে হবে, যেটি খাবারের পরিমাণ নির্দেশ করে ($0.0 <= X <= 100,000.0$)\n",
    "\n",
    "### আউটপুট\n",
    "\n",
    "প্রোগ্রামটির আউটপুটে $X$ কেজি খাবার শেষ করতে গুপীর কয়দিন সময় লাগবে, সেটি প্রিন্ট করতে হবে ‘days’ হিসেবে।\n",
    "\n",
    "### নমুনা ইনপুট / আউটপুট\n",
    "\n",
    "![](https://i.ibb.co/vkf0FDK/image.png)"
   ]
  },
  {
   "cell_type": "code",
   "execution_count": 1,
   "id": "a40b616d",
   "metadata": {},
   "outputs": [
    {
     "name": "stdout",
     "output_type": "stream",
     "text": [
      "3\n",
      "40.0\n",
      "6 days\n",
      "200.0\n",
      "8 days\n",
      "300\n",
      "9 days\n"
     ]
    }
   ],
   "source": [
    "T = int(input())\n",
    "\n",
    "for _ in range(1, T+1):\n",
    "  foods_in_kg = float(input())\n",
    "  \n",
    "  count = 0\n",
    "  while foods_in_kg > 1.0:\n",
    "    count += 1\n",
    "    foods_in_kg /= 2\n",
    "    \n",
    "  print(f\"{count} days\")"
   ]
  }
 ],
 "metadata": {
  "kernelspec": {
   "display_name": "Python 3 (system-wide)",
   "language": "python",
   "name": "python3"
  },
  "language_info": {
   "codemirror_mode": {
    "name": "ipython",
    "version": 3
   },
   "file_extension": ".py",
   "mimetype": "text/x-python",
   "name": "python",
   "nbconvert_exporter": "python",
   "pygments_lexer": "ipython3",
   "version": "3.10.12"
  }
 },
 "nbformat": 4,
 "nbformat_minor": 5
}
