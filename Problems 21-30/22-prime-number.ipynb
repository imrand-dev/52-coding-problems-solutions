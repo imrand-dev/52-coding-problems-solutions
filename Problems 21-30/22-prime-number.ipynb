{
 "cells": [
  {
   "cell_type": "markdown",
   "metadata": {},
   "source": [
    "- [সমস্যা ২২ — মৌলিক সংখ্যা](https://dimikoj.com/problems/22/prime-number)\n",
    "\n",
    "### সমস্যার বিবরণ\n",
    "\n",
    "প্রাইম বা মৌলিক সংখ্যা হচ্ছে 1 থেকে বড়ো সেইসব সংখ্যা, যেগুলোকে $1$ এবং ওই সংখ্যাটি ছাড়া অন্য কোনো সংখ্যা দিয়ে ভাগ করা যায় না। যেমন–$11, 13, 17$ ইত্যাদি। এমন একটি প্রোগ্রাম লিখতে হবে, যেটি একটি নির্দিষ্ট সীমা পর্যন্ত কতগুলো প্রাইম বা মৌলিক সংখ্যা আছে, সেটি প্রকাশ করবে।\n",
    "\n",
    "### ইনপুট\n",
    "\n",
    "প্রোগ্রামটির ইনপুট হবে একটি পূর্ণসংখ্যা $T (1 <= T <= 100)$, যা টেস্ট কেসের সংখ্যা নির্দেশ করে। পরবর্তী $T$-সংখ্যক লাইনে প্রোগ্রামটির ইনপুট হবে দুটি পূর্ণসংখ্যা $a$ ও $b$ $(1 <= a <= b <= 100,000)$।\n",
    "\n",
    "### আউটপুট\n",
    "\n",
    "প্রোগ্রামটির আউটপুটে $a$ থেকে $b$ পর্যন্ত কতগুলো মৌলিক সংখ্যা আছে তা প্রিন্ট করতে হবে।\n",
    "\n",
    "### নমুনা ইনপুট / আউটপুট\n",
    "\n",
    "![](https://i.ibb.co/V2RBs6N/image.png)"
   ]
  },
  {
   "cell_type": "code",
   "execution_count": null,
   "metadata": {},
   "outputs": [],
   "source": []
  }
 ],
 "metadata": {
  "kernelspec": {
   "display_name": "Python 3 (system-wide)",
   "language": "python",
   "name": "python3"
  },
  "language_info": {
   "codemirror_mode": {
    "name": "ipython",
    "version": 3
   },
   "file_extension": ".py",
   "mimetype": "text/x-python",
   "name": "python",
   "nbconvert_exporter": "python",
   "pygments_lexer": "ipython3",
   "version": "3.10.12"
  }
 },
 "nbformat": 4,
 "nbformat_minor": 4
}
