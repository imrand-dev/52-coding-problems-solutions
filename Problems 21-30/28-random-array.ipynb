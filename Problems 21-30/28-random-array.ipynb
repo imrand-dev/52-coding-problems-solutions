{
 "cells": [
  {
   "cell_type": "markdown",
   "id": "de1ca6c5",
   "metadata": {},
   "source": [
    "- [সমস্যা ২৮ — এলোমেলো অ্যারে](https://dimikoj.com/problems/28/random-array)\n",
    "\n",
    "### সমস্যার বিবরণ\n",
    "\n",
    "এমন একটি প্রোগ্রাম লিখতে হবে, যেটি একটি অ্যারে কোনো ক্রমে সাজানো বা সর্টেড আছে কি না, তা নির্ণয় করবে।\n",
    "\n",
    "### ইনপুট\n",
    "\n",
    "প্রোগ্রামটির প্রথম ইনপুট হবে একটি পূর্ণসংখ্যা $T (1 <= T <= 100)$, যা টেস্ট কেসের সংখ্যা নির্দেশ করে। পরবর্তী সময়ে $T$-সংখ্যক টেস্ট কেস থাকবে। প্রতিটি টেস্ট কেসের প্রথম লাইনে থাকবে একটি পূর্ণসংখ্যা $n (n <= 20)$, যেটি অ্যারের উপাদান সংখ্যা নির্দেশ করে। পরের $n$-সংখ্যক লাইনে $n$ সংখ্যক অ্যারের উপাদান ইনপুট নিতে হবে।\n",
    "\n",
    "### আউটপুট\n",
    "\n",
    "প্রোগ্রামটির আউটপুটে অ্যারেটি সাজানো (sorted) কি না, সেটি প্রিন্ট করবে। যদি সাজানো হয়, তাহলে প্রিন্ট করবে `YES` অন্যথায় `NO`।\n",
    "\n",
    "### নমুনা ইনপুট আউটপুট\n",
    "\n",
    "![](https://i.ibb.co/Y3TYx39/image.png)\n",
    "\n",
    "### Approach 1"
   ]
  },
  {
   "cell_type": "code",
   "execution_count": 1,
   "id": "a21e563c",
   "metadata": {},
   "outputs": [
    {
     "name": "stdout",
     "output_type": "stream",
     "text": [
      "2\n",
      "5\n",
      "1\n",
      "2\n",
      "3\n",
      "4\n",
      "5\n",
      "YES\n",
      "10\n",
      "9\n",
      "10\n",
      "8\n",
      "7\n",
      "6\n",
      "5\n",
      "4\n",
      "3\n",
      "2\n",
      "1\n",
      "NO\n"
     ]
    }
   ],
   "source": [
    "T = int(input())\n",
    "\n",
    "for _ in range(1, T+1):\n",
    "  n = int(input())\n",
    "  nums = [int(input()) for _ in range(n)]\n",
    "    \n",
    "  is_desc = nums[0] > nums[-1]\n",
    "  if sorted(nums, reverse=is_desc) == nums:\n",
    "    print(\"YES\")\n",
    "  else:\n",
    "    print(\"NO\")"
   ]
  },
  {
   "cell_type": "markdown",
   "id": "1ec4e636",
   "metadata": {},
   "source": [
    "### Approach 2"
   ]
  },
  {
   "cell_type": "code",
   "execution_count": 2,
   "id": "170c9783",
   "metadata": {},
   "outputs": [
    {
     "name": "stdout",
     "output_type": "stream",
     "text": [
      "3\n",
      "1\n",
      "15\n",
      "YES\n",
      "2\n",
      "12\n",
      "13\n",
      "YES\n",
      "3\n",
      "8\n",
      "5\n",
      "2\n",
      "YES\n"
     ]
    }
   ],
   "source": [
    "T = int(input())\n",
    "\n",
    "for _ in range(1, T+1):\n",
    "  n = int(input())\n",
    "  nums = [int(input()) for _ in range(n)]\n",
    "    \n",
    "  is_asc = nums[0] < nums[-1]\n",
    "  is_sorted = all(nums[i] < nums[i+1] if is_asc else nums[i] > nums[i+1] for i in range(n-1))\n",
    "\n",
    "  print(\"YES\" if is_sorted else \"NO\")"
   ]
  }
 ],
 "metadata": {
  "kernelspec": {
   "display_name": "Python 3 (system-wide)",
   "language": "python",
   "name": "python3"
  },
  "language_info": {
   "codemirror_mode": {
    "name": "ipython",
    "version": 3
   },
   "file_extension": ".py",
   "mimetype": "text/x-python",
   "name": "python",
   "nbconvert_exporter": "python",
   "pygments_lexer": "ipython3",
   "version": "3.10.12"
  }
 },
 "nbformat": 4,
 "nbformat_minor": 5
}
