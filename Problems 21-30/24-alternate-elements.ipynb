{
 "cells": [
  {
   "cell_type": "markdown",
   "id": "219135c4",
   "metadata": {},
   "source": [
    "- [সমস্যা ২৪ — একান্তর উপাদান](https://dimikoj.com/problems/24/alternate-elements)\n",
    "\n",
    "### সমস্যার বিবরণ\n",
    "\n",
    "একটি অ্যারের উপাদানগুলো থেকে একান্তর উপাদান (alternate elements) বের করার প্রোগ্রাম লিখতে হবে।\n",
    "\n",
    "### ইনপুট \n",
    "\n",
    "প্রোগ্রামটির ইনপুট হবে একটি পূর্ণসংখ্যা $T (1 <= T <= 100)$, যা টেস্ট কেসের সংখ্যা নির্দেশ করে। পরবর্তী $T$-সংখ্যক লাইনে প্রোগ্রামটির ইনপুট হবে একটি পূর্ণসংখ্যা $n (<= 100)$, যা অ্যারের উপাদান সংখ্যা নির্দেশ করে। পরে অ্যারের $n$-সংখ্যক উপাদান ইনপুট নিতে হবে।\n",
    "\n",
    "### আউটপুট\n",
    "\n",
    "প্রোগ্রামটির আউটপুটে অ্যারের একান্তর উপাদানগুলো পাশাপাশি প্রিন্ট করতে হবে। প্রতিটি উপাদান একটি স্পেস ক্যারেক্টার দিয়ে আলাদা থাকবে।\n",
    "\n",
    "### নমুনা ইনপুট / আউটপুট\n",
    "\n",
    "![](https://i.ibb.co/Hx2Z1TL/image.png)"
   ]
  },
  {
   "cell_type": "code",
   "execution_count": 1,
   "id": "0ae60690",
   "metadata": {},
   "outputs": [
    {
     "name": "stdout",
     "output_type": "stream",
     "text": [
      "2\n",
      "5 1 2 3 4 5\n",
      "1 3 5\n",
      "10 1 4 55 66 22 0 76 11 23 78\n",
      "1 55 22 76 23\n"
     ]
    }
   ],
   "source": [
    "T = int(input())\n",
    "\n",
    "for _ in range(1, T+1):\n",
    "    n, *array = list(map(int, input().split()))\n",
    "    \n",
    "    count = []\n",
    "    for idx in range(0, n, 2):\n",
    "        count.append(array[idx])\n",
    "    \n",
    "    print(*count)"
   ]
  }
 ],
 "metadata": {
  "kernelspec": {
   "display_name": "Python 3 (system-wide)",
   "language": "python",
   "name": "python3"
  },
  "language_info": {
   "codemirror_mode": {
    "name": "ipython",
    "version": 3
   },
   "file_extension": ".py",
   "mimetype": "text/x-python",
   "name": "python",
   "nbconvert_exporter": "python",
   "pygments_lexer": "ipython3",
   "version": "3.10.12"
  }
 },
 "nbformat": 4,
 "nbformat_minor": 5
}
