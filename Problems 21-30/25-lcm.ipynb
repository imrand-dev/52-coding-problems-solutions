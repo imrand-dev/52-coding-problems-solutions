{
 "cells": [
  {
   "attachments": {},
   "cell_type": "markdown",
   "id": "f3cb88bd",
   "metadata": {},
   "source": [
    "- [সমস্যা ২৫ — লঘিষ্ঠ সাধারণ গুণিতক](https://dimikoj.com/problems/25/lcm)\n",
    "\n",
    "### সমস্যার বিবরণ\n",
    "\n",
    "দুটি সংখ্যার ল.সা.গু. নির্ণয় করার প্রোগ্রাম লিখতে হবে।\n",
    "\n",
    "### ইনপুট\n",
    "\n",
    "প্রোগ্রামটির প্রথম ইনপুট হবে একটি পূর্ণসংখ্যা ${T (1 <= T <= 100)}$, যা টেস্ট কেস নির্দেশ করে। প্রতি ${T}$-সংখ্যক টেস্ট কেসের জন্য প্রোগ্রামটির ইনপুট হবে দুটি পূর্ণসংখ্যা ${a \\ (1 <=a) }$ and ${b \\ (b <= 100, 000)}$।\n",
    "\n",
    "### আউটপুট\n",
    "\n",
    "প্রোগ্রামটির আউটপুটে $a$ ও $b$-এর লঘিষ্ঠ সাধারণ গুণিতক বা LCM প্রিন্ট করতে হবে। আউটপুটে `=` চিহ্নের আগের এবং পরের স্পেস লক্ষণীয়।\n",
    "\n",
    "### নমুনা ইনপুট / আউটপুট\n",
    "\n",
    "![](https://i.ibb.co/8bTQ6hn/image.png)"
   ]
  },
  {
   "cell_type": "code",
   "execution_count": 1,
   "id": "e9ccf4d8",
   "metadata": {},
   "outputs": [],
   "source": [
    "# the greatest common divisor (GCD) of two or more integers, \n",
    "# which are not all zero, is the largest positive integer that divides each of the integers.\n",
    "def gcd(a, b):\n",
    "    while b != 0:\n",
    "        t = b\n",
    "        b = a % b\n",
    "        a = t\n",
    "        \n",
    "    return a"
   ]
  },
  {
   "cell_type": "code",
   "execution_count": 2,
   "id": "e5f8eefc",
   "metadata": {},
   "outputs": [
    {
     "name": "stdout",
     "output_type": "stream",
     "text": [
      "5\n",
      "30 15\n",
      "LCM = 30\n",
      "12 16\n",
      "LCM = 48\n",
      "14 35\n",
      "LCM = 70\n",
      "4 6\n",
      "LCM = 12\n",
      "105 15\n",
      "LCM = 105\n"
     ]
    }
   ],
   "source": [
    "T = int(input())\n",
    "\n",
    "for _ in range(1, T+1):\n",
    "    a, b = map(int, input().split())\n",
    "    res = a * b\n",
    "    # লসাগু = দুটি সংখ্যার গুণফল / গসাগু\n",
    "    lcm = res // gcd(a, b)\n",
    "    print(f\"LCM = {lcm}\")"
   ]
  }
 ],
 "metadata": {
  "kernelspec": {
   "display_name": "Python 3 (system-wide)",
   "language": "python",
   "name": "python3"
  },
  "language_info": {
   "codemirror_mode": {
    "name": "ipython",
    "version": 3
   },
   "file_extension": ".py",
   "mimetype": "text/x-python",
   "name": "python",
   "nbconvert_exporter": "python",
   "pygments_lexer": "ipython3",
   "version": "3.10.12"
  }
 },
 "nbformat": 4,
 "nbformat_minor": 5
}
