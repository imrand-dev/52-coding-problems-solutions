{
 "cells": [
  {
   "cell_type": "markdown",
   "id": "d086a627",
   "metadata": {},
   "source": [
    "- [সমস্যা ২১ — উলটে দেখা](https://dimikoj.com/problems/21/reverse-word)\n",
    "\n",
    "### সমস্যার বিবরণ\n",
    "\n",
    "এমন একটি প্রোগ্রাম লেখো, যেটি একটি শব্দকে উলটো করে দেখাবে।\n",
    "\n",
    "### ইনপুট\n",
    "\n",
    "প্রোগ্রামটির প্রথম ইনপুট হবে একটি পূর্ণসংখ্যা ${T (1 <= T <= 100)}$, যা টেস্ট কেসের সংখ্যা নির্দেশ করে। পরবর্তী $T$-সংখ্যক লাইনে প্রোগ্রামটির ইনপুট হবে একটি স্ট্রিং $T$। স্ট্রিং-এর সর্বোচ্চ দৈর্ঘ্য হবে $1,000$।\n",
    "\n",
    "### আউটপুট\n",
    "\n",
    "প্রোগ্রামটির আউটপুটে ${S}$ স্ট্রিংটিকে উলটো করে প্রিন্ট করতে হবে।\n",
    "\n",
    "### নমুনা ইনপুট / আউটপুট\n",
    "\n",
    "![](https://i.ibb.co/m6xL1LC/image.png)"
   ]
  },
  {
   "cell_type": "code",
   "execution_count": 1,
   "id": "9597b571",
   "metadata": {},
   "outputs": [
    {
     "name": "stdout",
     "output_type": "stream",
     "text": [
      "5\n",
      "theygaveabigpartyforme\n",
      "emrofytrapgibaevagyeht\n",
      "shewastwentytwoyearsold\n",
      "dlosraeyowtytnewtsawehs\n",
      "string\n",
      "gnirts\n",
      "Programming\n",
      "gnimmargorP\n",
      "Arora\n",
      "arorA\n"
     ]
    }
   ],
   "source": [
    "T = int(input())\n",
    "\n",
    "for _ in range(1, T+1):\n",
    "    string = input()\n",
    "    \n",
    "    print(string[::-1])"
   ]
  },
  {
   "cell_type": "code",
   "execution_count": 2,
   "id": "376e241d",
   "metadata": {},
   "outputs": [
    {
     "name": "stdout",
     "output_type": "stream",
     "text": [
      "2\n",
      "shewastwentytwoyearsold\n",
      "dlosraeyowtytnewtsawehs\n",
      "theygaveabigpartyforme\n",
      "emrofytrapgibaevagyeht\n"
     ]
    }
   ],
   "source": [
    "T = int(input())\n",
    "\n",
    "for _ in range(1, T+1):\n",
    "    string = input()\n",
    "    \n",
    "    reverse_words = \"\"\n",
    "    for i in range(len(string)-1, -1, -1):\n",
    "        reverse_words += string[i]\n",
    "        \n",
    "    print(reverse_words)"
   ]
  },
  {
   "cell_type": "code",
   "execution_count": 3,
   "id": "9c41667c",
   "metadata": {},
   "outputs": [
    {
     "name": "stdout",
     "output_type": "stream",
     "text": [
      "1\n",
      "theygaveabigpartyforme\n",
      "emrofytrapgibaevagyeht\n"
     ]
    }
   ],
   "source": [
    "T = int(input())\n",
    "\n",
    "for _ in range(1, T+1):\n",
    "    string = input()\n",
    "    \n",
    "    for i in reversed(string):\n",
    "        print(i, end=\"\")\n",
    "    print()"
   ]
  }
 ],
 "metadata": {
  "kernelspec": {
   "display_name": "Python 3 (system-wide)",
   "language": "python",
   "name": "python3"
  },
  "language_info": {
   "codemirror_mode": {
    "name": "ipython",
    "version": 3
   },
   "file_extension": ".py",
   "mimetype": "text/x-python",
   "name": "python",
   "nbconvert_exporter": "python",
   "pygments_lexer": "ipython3",
   "version": "3.10.12"
  }
 },
 "nbformat": 4,
 "nbformat_minor": 5
}
